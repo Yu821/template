{
 "cells": [
  {
   "cell_type": "code",
   "execution_count": 2,
   "id": "464db7c3",
   "metadata": {},
   "outputs": [],
   "source": [
    "import numpy as np\n",
    "import pandas as pd\n",
    "import seaborn as sns\n",
    "from tqdm.auto import tqdm\n",
    "\n",
    "import matplotlib.pyplot as plt\n",
    "\n",
    "import warnings\n",
    "warnings.filterwarnings('ignore')\n",
    "\n",
    "from IPython.display import display, HTML\n",
    "\n",
    "# 表示用の設定を変更します\n",
    "%matplotlib inline\n",
    "pd.options.display.max_rows = 100\n",
    "pd.options.display.max_columns = 100\n",
    "pd.options.display.width = 130\n",
    "\n",
    "from IPython.core.interactiveshell import InteractiveShell\n",
    "InteractiveShell.ast_node_interactivity = \"all\""
   ]
  },
  {
   "cell_type": "code",
   "execution_count": 1,
   "id": "a58a3f9d",
   "metadata": {},
   "outputs": [],
   "source": [
    "from IPython.display import display_html\n",
    "from itertools import chain,cycle\n",
    "def display_side_by_side(*args,titles=cycle([''])):\n",
    "    html_str=''\n",
    "    for df,title in zip(args, chain(titles,cycle(['</br>'])) ):\n",
    "        html_str+='<th style=\"text-align:center\"><td style=\"vertical-align:top\">'\n",
    "        html_str+=f'<h4>{title}</h4>'\n",
    "        if isinstance(df, pd.DataFrame): \n",
    "            html_str+=df.to_html().replace('table','table style=\"display:inline\"')\n",
    "        else:\n",
    "            html_str+=pd.DataFrame(df).to_html().replace('table','table style=\"display:inline\"')\n",
    "        html_str+='</td></th>'\n",
    "    display_html(html_str,raw=True)"
   ]
  },
  {
   "cell_type": "code",
   "execution_count": null,
   "id": "783afc95",
   "metadata": {},
   "outputs": [],
   "source": []
  },
  {
   "cell_type": "code",
   "execution_count": 8,
   "id": "f3d267a6",
   "metadata": {
    "scrolled": true
   },
   "outputs": [
    {
     "data": {
      "text/plain": [
       "array(['Adelie', 'Chinstrap', 'Gentoo'], dtype=object)"
      ]
     },
     "execution_count": 8,
     "metadata": {},
     "output_type": "execute_result"
    }
   ],
   "source": [
    "peng = sns.load_dataset(\"penguins\")\n",
    "\n",
    "peng.species.unique()"
   ]
  },
  {
   "cell_type": "markdown",
   "id": "4a7d23d0",
   "metadata": {},
   "source": [
    "# Kolmogorov–Smirnov test (KS-test)"
   ]
  },
  {
   "cell_type": "markdown",
   "id": "0c2c511c",
   "metadata": {},
   "source": [
    "\n",
    "Assumptions: https://influentialpoints.com/Training/kolmogorov-smirnov_test-principles-properties-assumptions.htm\n",
    "The two samples are mutually independent.\n",
    "The scale of measurement is at least ordinal.\n",
    "The test is only exact for continuous variables. It is conservative for discrete variables.\n",
    "\n",
    "Ha: Two sample distributions are from different population distributions.\n",
    "Ho: Two sample distributions are from same population distribution."
   ]
  },
  {
   "cell_type": "code",
   "execution_count": 7,
   "id": "d6dcb95b",
   "metadata": {},
   "outputs": [
    {
     "data": {
      "text/plain": [
       "KstestResult(statistic=0.3972943722943723, pvalue=2.977840196649595e-12)"
      ]
     },
     "execution_count": 7,
     "metadata": {},
     "output_type": "execute_result"
    }
   ],
   "source": [
    "from scipy.stats import ks_2samp\n",
    "\n",
    "fe = peng[peng[\"sex\"]==\"Female\"]\n",
    "ma = peng[peng[\"sex\"]==\"Male\"]\n",
    "\n",
    "ks_2samp(fe[\"bill_length_mm\"].values, ma[\"bill_length_mm\"].values, alternative='two-sided')"
   ]
  },
  {
   "cell_type": "markdown",
   "id": "059dafac",
   "metadata": {},
   "source": [
    "# Chisquared test"
   ]
  },
  {
   "cell_type": "markdown",
   "id": "7a262a8a",
   "metadata": {},
   "source": [
    "Check if there is relationship between two or more categorical variables.\n",
    "\n",
    "Major assumptions (https://www.ncbi.nlm.nih.gov/pmc/articles/PMC3900058/)\n",
    "1. The levels (or categories) of the variables are mutually exclusive.\n",
    "Satisfied.\n",
    "2. The study groups must be independent.\n",
    "Satisfied.\n",
    "3. There are 2 variables, and both are measured as categories, usually at the nominal level. However, data may be ordinal data. \n",
    "Satified.\n",
    "\n",
    "Ho:  No relationship exists on the categorical variables  Ha: Ho is not true."
   ]
  },
  {
   "cell_type": "code",
   "execution_count": 15,
   "id": "698cf69e",
   "metadata": {},
   "outputs": [
    {
     "name": "stdout",
     "output_type": "stream",
     "text": [
      "Tables:  [[73, 58, 34], [73, 61, 34]] \n",
      "\n",
      "p-value 0.9759893689765846\n"
     ]
    }
   ],
   "source": [
    "from scipy.stats import chi2_contingency\n",
    "\n",
    "fe = peng[peng[\"sex\"]==\"Female\"][\"species\"]\n",
    "ma = peng[peng[\"sex\"]==\"Male\"][\"species\"]\n",
    "\n",
    "\n",
    "obs = list()\n",
    "obs.append(fe.value_counts().tolist()); obs.append(ma.value_counts().tolist())\n",
    "\n",
    "print(\"Tables: \", obs, \"\\n\")\n",
    "\n",
    "chi2, p, dof, ex = chi2_contingency(obs)\n",
    "\n",
    "print(\"p-value\", p)"
   ]
  },
  {
   "cell_type": "markdown",
   "id": "1c0b8bd8",
   "metadata": {},
   "source": [
    "# Mann-whitneyu test"
   ]
  },
  {
   "cell_type": "markdown",
   "id": "cba44ac4",
   "metadata": {},
   "source": [
    "Check if two variables are from same distribution.  (Use two samples t-test if the normality is satisfied).\n",
    "\n",
    "It ranks its variable and compare if the mean of rank in each group is same.\n",
    "\n",
    "Ha: Two values are significantly different. Ho: Ha is not true.\n",
    "\n",
    "Assumptions https://www.statisticshowto.com/mann-whitney-u-test/\n",
    "The dependent variable should be measured on an ordinal scale or a continuous scale.\n",
    "The independent variable should be two independent, categorical groups.\n",
    "Observations should be independent. In other words, there should be no relationship between the two groups or within each group.\n",
    "Observations are not normally distributed. However, they should follow the same shape (i.e. both are bell-shaped and skewed left)."
   ]
  },
  {
   "cell_type": "code",
   "execution_count": null,
   "id": "b8c1ce4e",
   "metadata": {},
   "outputs": [],
   "source": [
    "from scipy.stats import mannwhitneyu\n",
    "\n",
    "mannwhitneyu(real_count, fake_count)"
   ]
  },
  {
   "cell_type": "code",
   "execution_count": null,
   "id": "1dc830b0",
   "metadata": {},
   "outputs": [],
   "source": []
  },
  {
   "cell_type": "code",
   "execution_count": null,
   "id": "a493fbd1",
   "metadata": {},
   "outputs": [],
   "source": []
  },
  {
   "cell_type": "code",
   "execution_count": null,
   "id": "5f90d8d6",
   "metadata": {},
   "outputs": [],
   "source": []
  },
  {
   "cell_type": "code",
   "execution_count": null,
   "id": "ffe02439",
   "metadata": {},
   "outputs": [],
   "source": []
  },
  {
   "cell_type": "code",
   "execution_count": null,
   "id": "165753cf",
   "metadata": {},
   "outputs": [],
   "source": []
  }
 ],
 "metadata": {
  "kernelspec": {
   "display_name": "Python 3",
   "language": "python",
   "name": "python3"
  },
  "language_info": {
   "codemirror_mode": {
    "name": "ipython",
    "version": 3
   },
   "file_extension": ".py",
   "mimetype": "text/x-python",
   "name": "python",
   "nbconvert_exporter": "python",
   "pygments_lexer": "ipython3",
   "version": "3.7.0"
  },
  "toc": {
   "base_numbering": 1,
   "nav_menu": {},
   "number_sections": true,
   "sideBar": true,
   "skip_h1_title": false,
   "title_cell": "Table of Contents",
   "title_sidebar": "Contents",
   "toc_cell": false,
   "toc_position": {},
   "toc_section_display": true,
   "toc_window_display": false
  }
 },
 "nbformat": 4,
 "nbformat_minor": 5
}
