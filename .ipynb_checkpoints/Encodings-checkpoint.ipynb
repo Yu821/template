{
 "cells": [
  {
   "cell_type": "markdown",
   "id": "65ccf3fa",
   "metadata": {},
   "source": []
  },
  {
   "cell_type": "code",
   "execution_count": null,
   "id": "9ddb8def",
   "metadata": {},
   "outputs": [],
   "source": []
  },
  {
   "cell_type": "markdown",
   "id": "b73bfa2f",
   "metadata": {},
   "source": [
    "#  Import libraries"
   ]
  },
  {
   "cell_type": "code",
   "execution_count": 2,
   "id": "8b184f6e",
   "metadata": {},
   "outputs": [],
   "source": [
    "import numpy as np\n",
    "import pandas as pd\n",
    "import seaborn as sns\n",
    "from tqdm.auto import tqdm\n",
    "\n",
    "import matplotlib.pyplot as plt\n",
    "\n",
    "import warnings\n",
    "warnings.filterwarnings('ignore')\n",
    "\n",
    "from IPython.display import display, HTML\n",
    "\n",
    "# 表示用の設定を変更します\n",
    "%matplotlib inline\n",
    "pd.options.display.max_rows = 100\n",
    "pd.options.display.max_columns = 100\n",
    "pd.options.display.width = 130\n",
    "\n",
    "from IPython.core.interactiveshell import InteractiveShell\n",
    "InteractiveShell.ast_node_interactivity = \"all\""
   ]
  },
  {
   "cell_type": "markdown",
   "id": "557442ba",
   "metadata": {},
   "source": [
    "# Label Encoding"
   ]
  },
  {
   "cell_type": "code",
   "execution_count": 74,
   "id": "cdf6e069",
   "metadata": {},
   "outputs": [
    {
     "data": {
      "text/html": [
       "<div>\n",
       "<style scoped>\n",
       "    .dataframe tbody tr th:only-of-type {\n",
       "        vertical-align: middle;\n",
       "    }\n",
       "\n",
       "    .dataframe tbody tr th {\n",
       "        vertical-align: top;\n",
       "    }\n",
       "\n",
       "    .dataframe thead th {\n",
       "        text-align: right;\n",
       "    }\n",
       "</style>\n",
       "<table border=\"1\" class=\"dataframe\">\n",
       "  <thead>\n",
       "    <tr style=\"text-align: right;\">\n",
       "      <th></th>\n",
       "      <th>species</th>\n",
       "      <th>island</th>\n",
       "      <th>bill_length_mm</th>\n",
       "      <th>bill_depth_mm</th>\n",
       "      <th>flipper_length_mm</th>\n",
       "      <th>body_mass_g</th>\n",
       "      <th>sex</th>\n",
       "    </tr>\n",
       "  </thead>\n",
       "  <tbody>\n",
       "    <tr>\n",
       "      <th>0</th>\n",
       "      <td>0</td>\n",
       "      <td>Torgersen</td>\n",
       "      <td>39.1</td>\n",
       "      <td>18.7</td>\n",
       "      <td>181.0</td>\n",
       "      <td>3750.0</td>\n",
       "      <td>1</td>\n",
       "    </tr>\n",
       "    <tr>\n",
       "      <th>1</th>\n",
       "      <td>0</td>\n",
       "      <td>Torgersen</td>\n",
       "      <td>39.5</td>\n",
       "      <td>17.4</td>\n",
       "      <td>186.0</td>\n",
       "      <td>3800.0</td>\n",
       "      <td>0</td>\n",
       "    </tr>\n",
       "    <tr>\n",
       "      <th>2</th>\n",
       "      <td>0</td>\n",
       "      <td>Torgersen</td>\n",
       "      <td>40.3</td>\n",
       "      <td>18.0</td>\n",
       "      <td>195.0</td>\n",
       "      <td>3250.0</td>\n",
       "      <td>0</td>\n",
       "    </tr>\n",
       "    <tr>\n",
       "      <th>3</th>\n",
       "      <td>0</td>\n",
       "      <td>Torgersen</td>\n",
       "      <td>NaN</td>\n",
       "      <td>NaN</td>\n",
       "      <td>NaN</td>\n",
       "      <td>NaN</td>\n",
       "      <td>2</td>\n",
       "    </tr>\n",
       "    <tr>\n",
       "      <th>4</th>\n",
       "      <td>0</td>\n",
       "      <td>Torgersen</td>\n",
       "      <td>36.7</td>\n",
       "      <td>19.3</td>\n",
       "      <td>193.0</td>\n",
       "      <td>3450.0</td>\n",
       "      <td>0</td>\n",
       "    </tr>\n",
       "    <tr>\n",
       "      <th>...</th>\n",
       "      <td>...</td>\n",
       "      <td>...</td>\n",
       "      <td>...</td>\n",
       "      <td>...</td>\n",
       "      <td>...</td>\n",
       "      <td>...</td>\n",
       "      <td>...</td>\n",
       "    </tr>\n",
       "    <tr>\n",
       "      <th>339</th>\n",
       "      <td>2</td>\n",
       "      <td>Biscoe</td>\n",
       "      <td>NaN</td>\n",
       "      <td>NaN</td>\n",
       "      <td>NaN</td>\n",
       "      <td>NaN</td>\n",
       "      <td>2</td>\n",
       "    </tr>\n",
       "    <tr>\n",
       "      <th>340</th>\n",
       "      <td>2</td>\n",
       "      <td>Biscoe</td>\n",
       "      <td>46.8</td>\n",
       "      <td>14.3</td>\n",
       "      <td>215.0</td>\n",
       "      <td>4850.0</td>\n",
       "      <td>0</td>\n",
       "    </tr>\n",
       "    <tr>\n",
       "      <th>341</th>\n",
       "      <td>2</td>\n",
       "      <td>Biscoe</td>\n",
       "      <td>50.4</td>\n",
       "      <td>15.7</td>\n",
       "      <td>222.0</td>\n",
       "      <td>5750.0</td>\n",
       "      <td>1</td>\n",
       "    </tr>\n",
       "    <tr>\n",
       "      <th>342</th>\n",
       "      <td>2</td>\n",
       "      <td>Biscoe</td>\n",
       "      <td>45.2</td>\n",
       "      <td>14.8</td>\n",
       "      <td>212.0</td>\n",
       "      <td>5200.0</td>\n",
       "      <td>0</td>\n",
       "    </tr>\n",
       "    <tr>\n",
       "      <th>343</th>\n",
       "      <td>2</td>\n",
       "      <td>Biscoe</td>\n",
       "      <td>49.9</td>\n",
       "      <td>16.1</td>\n",
       "      <td>213.0</td>\n",
       "      <td>5400.0</td>\n",
       "      <td>1</td>\n",
       "    </tr>\n",
       "  </tbody>\n",
       "</table>\n",
       "<p>344 rows × 7 columns</p>\n",
       "</div>"
      ],
      "text/plain": [
       "     species     island  bill_length_mm  bill_depth_mm  flipper_length_mm  body_mass_g  sex\n",
       "0          0  Torgersen            39.1           18.7              181.0       3750.0    1\n",
       "1          0  Torgersen            39.5           17.4              186.0       3800.0    0\n",
       "2          0  Torgersen            40.3           18.0              195.0       3250.0    0\n",
       "3          0  Torgersen             NaN            NaN                NaN          NaN    2\n",
       "4          0  Torgersen            36.7           19.3              193.0       3450.0    0\n",
       "..       ...        ...             ...            ...                ...          ...  ...\n",
       "339        2     Biscoe             NaN            NaN                NaN          NaN    2\n",
       "340        2     Biscoe            46.8           14.3              215.0       4850.0    0\n",
       "341        2     Biscoe            50.4           15.7              222.0       5750.0    1\n",
       "342        2     Biscoe            45.2           14.8              212.0       5200.0    0\n",
       "343        2     Biscoe            49.9           16.1              213.0       5400.0    1\n",
       "\n",
       "[344 rows x 7 columns]"
      ]
     },
     "execution_count": 74,
     "metadata": {},
     "output_type": "execute_result"
    }
   ],
   "source": [
    "from sklearn.preprocessing import LabelEncoder \n",
    "\n",
    "peng = sns.load_dataset(\"penguins\")\n",
    "\n",
    "label_encoder = LabelEncoder()\n",
    "\n",
    "cols = [\"sex\", \"species\"]\n",
    "\n",
    "for col in cols:\n",
    "    peng.loc[:, col] = label_encoder.fit_transform(peng.loc[:, col])\n"
   ]
  },
  {
   "cell_type": "markdown",
   "id": "621b7aaf",
   "metadata": {},
   "source": [
    "# One hot encoding"
   ]
  },
  {
   "cell_type": "markdown",
   "id": "a57243d8",
   "metadata": {},
   "source": [
    "## One hot encoder"
   ]
  },
  {
   "cell_type": "code",
   "execution_count": null,
   "id": "d8fddffc",
   "metadata": {},
   "outputs": [],
   "source": [
    "from sklearn.preprocessing import OneHotEncoder\n",
    "\n",
    "peng = sns.load_dataset(\"penguins\")\n",
    "\n",
    "cat_cols = peng.select_dtypes(include='object').columns.values\n",
    "\n",
    "# Divide df with categories and df with numerical columns\n",
    "cat_peng = peng[cat_cols].copy()\n",
    "num_peng = peng[[col for col in peng.columns.values if col not in cat_cols]]\n",
    "\n",
    "# Conduct one hot encoding\n",
    "encoder = OneHotEncoder(handle_unknown=\"ignore\")\n",
    "cat_peng = encoder.fit_transform(cat_peng)\n",
    "\n",
    "onehot = pd.DataFrame(cat_peng.toarray(), columns=encoder.get_feature_names(['species', 'island', 'sex']))\n",
    "\n",
    "# Concatenate categoral columns and numerical columns\n",
    "peng = pd.concat([onehot, num_peng], axis=1)\n"
   ]
  },
  {
   "cell_type": "markdown",
   "id": "842f8ee9",
   "metadata": {},
   "source": [
    "## Pandas dummies"
   ]
  },
  {
   "cell_type": "code",
   "execution_count": 8,
   "id": "faa34731",
   "metadata": {},
   "outputs": [
    {
     "data": {
      "text/plain": [
       "array(['bill_length_mm', 'bill_depth_mm', 'flipper_length_mm',\n",
       "       'body_mass_g', 'species_nan', 'island_nan', 'sex_Male', 'sex_nan'],\n",
       "      dtype=object)"
      ]
     },
     "execution_count": 8,
     "metadata": {},
     "output_type": "execute_result"
    },
    {
     "data": {
      "text/plain": [
       "array(['bill_length_mm', 'bill_depth_mm', 'flipper_length_mm',\n",
       "       'body_mass_g', 'species_nan', 'island_nan', 'sex_Male', 'sex_nan'],\n",
       "      dtype=object)"
      ]
     },
     "execution_count": 8,
     "metadata": {},
     "output_type": "execute_result"
    }
   ],
   "source": [
    "peng = sns.load_dataset(\"penguins\")\n",
    "\n",
    "\n",
    "train, test = peng[10:], peng[:10]\n",
    "\n",
    "train = pd.get_dummies(train, drop_first=True, dummy_na=True)\n",
    "test = pd.get_dummies(test, drop_first=True, dummy_na=True)\n",
    "\n",
    "# align = 整列する。axis=1 is column. Align columns by left join.\n",
    "test, train = test.align(train, join='left', axis=1)\n",
    "\n",
    "train.columns.values\n",
    "test.columns.values"
   ]
  },
  {
   "cell_type": "markdown",
   "id": "914b0acb",
   "metadata": {},
   "source": [
    "# Count encodings"
   ]
  },
  {
   "cell_type": "code",
   "execution_count": 34,
   "id": "8d2015ee",
   "metadata": {},
   "outputs": [
    {
     "data": {
      "text/plain": [
       "Adelie       152\n",
       "Gentoo       124\n",
       "Chinstrap     68\n",
       "Name: species, dtype: int64"
      ]
     },
     "execution_count": 34,
     "metadata": {},
     "output_type": "execute_result"
    },
    {
     "data": {
      "text/plain": [
       "Biscoe       168\n",
       "Dream        124\n",
       "Torgersen     52\n",
       "Name: island, dtype: int64"
      ]
     },
     "execution_count": 34,
     "metadata": {},
     "output_type": "execute_result"
    }
   ],
   "source": [
    "peng = sns.load_dataset(\"penguins\")\n",
    "\n",
    "train = peng[100:]\n",
    "test = peng[:100]\n",
    "\n",
    "\n",
    "# Count encoding Way1 -------------------------------------------------------------------------------------\n",
    "count_features = ['species', 'island']\n",
    "\n",
    "for feature in count_features:\n",
    "    train['count_' + feature] = train[feature].map(pd.concat([train[feature], test[feature]], ignore_index=True).value_counts(dropna=False))\n",
    "    test['count_' + feature] = test[feature].map(pd.concat([train[feature], test[feature]], ignore_index=True).value_counts(dropna=False))\n"
   ]
  },
  {
   "cell_type": "markdown",
   "id": "7e7d790a",
   "metadata": {},
   "source": [
    "# Target mean encodings"
   ]
  },
  {
   "cell_type": "code",
   "execution_count": 71,
   "id": "8743fa7e",
   "metadata": {},
   "outputs": [
    {
     "data": {
      "text/html": [
       "<div>\n",
       "<style scoped>\n",
       "    .dataframe tbody tr th:only-of-type {\n",
       "        vertical-align: middle;\n",
       "    }\n",
       "\n",
       "    .dataframe tbody tr th {\n",
       "        vertical-align: top;\n",
       "    }\n",
       "\n",
       "    .dataframe thead th {\n",
       "        text-align: right;\n",
       "    }\n",
       "</style>\n",
       "<table border=\"1\" class=\"dataframe\">\n",
       "  <thead>\n",
       "    <tr style=\"text-align: right;\">\n",
       "      <th></th>\n",
       "      <th>feature1</th>\n",
       "      <th>category1</th>\n",
       "      <th>target</th>\n",
       "      <th>target_enc</th>\n",
       "    </tr>\n",
       "  </thead>\n",
       "  <tbody>\n",
       "    <tr>\n",
       "      <th>0</th>\n",
       "      <td>1</td>\n",
       "      <td>A</td>\n",
       "      <td>1</td>\n",
       "      <td>0.5</td>\n",
       "    </tr>\n",
       "    <tr>\n",
       "      <th>1</th>\n",
       "      <td>2</td>\n",
       "      <td>A</td>\n",
       "      <td>0</td>\n",
       "      <td>0.5</td>\n",
       "    </tr>\n",
       "    <tr>\n",
       "      <th>2</th>\n",
       "      <td>3</td>\n",
       "      <td>B</td>\n",
       "      <td>1</td>\n",
       "      <td>1.0</td>\n",
       "    </tr>\n",
       "  </tbody>\n",
       "</table>\n",
       "</div>"
      ],
      "text/plain": [
       "   feature1 category1  target  target_enc\n",
       "0         1         A       1         0.5\n",
       "1         2         A       0         0.5\n",
       "2         3         B       1         1.0"
      ]
     },
     "execution_count": 71,
     "metadata": {},
     "output_type": "execute_result"
    },
    {
     "data": {
      "text/html": [
       "<div>\n",
       "<style scoped>\n",
       "    .dataframe tbody tr th:only-of-type {\n",
       "        vertical-align: middle;\n",
       "    }\n",
       "\n",
       "    .dataframe tbody tr th {\n",
       "        vertical-align: top;\n",
       "    }\n",
       "\n",
       "    .dataframe thead th {\n",
       "        text-align: right;\n",
       "    }\n",
       "</style>\n",
       "<table border=\"1\" class=\"dataframe\">\n",
       "  <thead>\n",
       "    <tr style=\"text-align: right;\">\n",
       "      <th></th>\n",
       "      <th>feature1</th>\n",
       "      <th>category1</th>\n",
       "      <th>target</th>\n",
       "      <th>target_enc</th>\n",
       "    </tr>\n",
       "  </thead>\n",
       "  <tbody>\n",
       "    <tr>\n",
       "      <th>0</th>\n",
       "      <td>1</td>\n",
       "      <td>A</td>\n",
       "      <td>1</td>\n",
       "      <td>0.5</td>\n",
       "    </tr>\n",
       "    <tr>\n",
       "      <th>1</th>\n",
       "      <td>2</td>\n",
       "      <td>B</td>\n",
       "      <td>0</td>\n",
       "      <td>1.0</td>\n",
       "    </tr>\n",
       "    <tr>\n",
       "      <th>2</th>\n",
       "      <td>3</td>\n",
       "      <td>B</td>\n",
       "      <td>1</td>\n",
       "      <td>1.0</td>\n",
       "    </tr>\n",
       "  </tbody>\n",
       "</table>\n",
       "</div>"
      ],
      "text/plain": [
       "   feature1 category1  target  target_enc\n",
       "0         1         A       1         0.5\n",
       "1         2         B       0         1.0\n",
       "2         3         B       1         1.0"
      ]
     },
     "execution_count": 71,
     "metadata": {},
     "output_type": "execute_result"
    }
   ],
   "source": [
    "# Target Mean Encoding ---------------------------------------------------------------------------\n",
    "train = pd.DataFrame({\n",
    "    'feature1':[1,2,3], \n",
    "    'category1':[\"A\",\"A\",\"B\"],\n",
    "    'target':[1,0,1]\n",
    "})\n",
    "test = pd.DataFrame({'feature1':[1,2,3], 'category1':[\"A\",\"B\",\"B\"],'target':[1,0,1]})\n",
    "\n",
    "\n",
    "# http://nami3373.hatenablog.com/entry/2018/07/26/230655\n",
    "train['target_enc'] = train.groupby('category1')['target'].transform('mean')\n",
    "\n",
    "# Create table to map category to encoded target mean\n",
    "table = train[[\"category1\", \"target_enc\"]].drop_duplicates().set_index('category1')[\"target_enc\"]\n",
    "\n",
    "test['target_enc'] = test['category1'].map(table)\n",
    "\n",
    "train\n",
    "test"
   ]
  },
  {
   "cell_type": "markdown",
   "id": "78ae1f27",
   "metadata": {},
   "source": [
    "# Target encoding with smooth"
   ]
  },
  {
   "cell_type": "code",
   "execution_count": null,
   "id": "81b813e0",
   "metadata": {},
   "outputs": [],
   "source": []
  },
  {
   "cell_type": "markdown",
   "id": "567fbaf0",
   "metadata": {},
   "source": [
    "# Cat encodings"
   ]
  },
  {
   "cell_type": "code",
   "execution_count": null,
   "id": "f29de27b",
   "metadata": {},
   "outputs": [],
   "source": []
  },
  {
   "cell_type": "code",
   "execution_count": null,
   "id": "e5279a1f",
   "metadata": {},
   "outputs": [],
   "source": []
  }
 ],
 "metadata": {
  "kernelspec": {
   "display_name": "Python 3",
   "language": "python",
   "name": "python3"
  },
  "language_info": {
   "codemirror_mode": {
    "name": "ipython",
    "version": 3
   },
   "file_extension": ".py",
   "mimetype": "text/x-python",
   "name": "python",
   "nbconvert_exporter": "python",
   "pygments_lexer": "ipython3",
   "version": "3.7.0"
  },
  "toc": {
   "base_numbering": 1,
   "nav_menu": {},
   "number_sections": true,
   "sideBar": true,
   "skip_h1_title": false,
   "title_cell": "Table of Contents",
   "title_sidebar": "Contents",
   "toc_cell": false,
   "toc_position": {},
   "toc_section_display": true,
   "toc_window_display": true
  }
 },
 "nbformat": 4,
 "nbformat_minor": 5
}
